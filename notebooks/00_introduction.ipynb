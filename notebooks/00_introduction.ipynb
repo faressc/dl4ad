{
 "cells": [
  {
   "cell_type": "markdown",
   "id": "3698e7d5",
   "metadata": {},
   "source": [
    "# Lesson 0: Introduction"
   ]
  },
  {
   "cell_type": "code",
   "execution_count": 1,
   "id": "33c9d05c",
   "metadata": {},
   "outputs": [],
   "source": [
    "import os"
   ]
  },
  {
   "cell_type": "code",
   "execution_count": null,
   "id": "87136e14",
   "metadata": {},
   "outputs": [],
   "source": []
  }
 ],
 "metadata": {
  "kernelspec": {
   "display_name": "venv (3.13.5)",
   "language": "python",
   "name": "python3"
  },
  "language_info": {
   "codemirror_mode": {
    "name": "ipython",
    "version": 3
   },
   "file_extension": ".py",
   "mimetype": "text/x-python",
   "name": "python",
   "nbconvert_exporter": "python",
   "pygments_lexer": "ipython3",
   "version": "3.13.5"
  }
 },
 "nbformat": 4,
 "nbformat_minor": 5
}
